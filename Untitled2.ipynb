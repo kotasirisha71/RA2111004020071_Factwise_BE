{
 "cells": [
  {
   "cell_type": "code",
   "execution_count": 9,
   "id": "c2cec70c",
   "metadata": {},
   "outputs": [
    {
     "name": "stdout",
     "output_type": "stream",
     "text": [
      "21124\n"
     ]
    }
   ],
   "source": [
    "def numbers_words(n):\n",
    "    ones=[\"\",\"one\",\"two\",\"three\",\"four\",\"five\",\"six\",\"seven\",\"eight\",\"nine\"]\n",
    "    teens=[\"\",\"eleven\",\"twelve\",\"thirteen\",\"fourteen\",\"fifteen\",\"sixteen\",\"seventeen\",\"eighteen\",\"nineteen\"]\n",
    "    tens=[\"\",\"ten\",\"twenty\",\"thirty\",\"forty\",\"fifty\",\"sixty\",\"seventy\",\"eighty\",\"ninety\"]\n",
    "    if n==0:\n",
    "        return \"\"\n",
    "    elif n<10:\n",
    "        return ones[n]\n",
    "    elif 10<n<20:\n",
    "        return teens[n-10]\n",
    "    elif n<100:\n",
    "        return tens[n//10]+ones[n%10]\n",
    "    elif n<1000:\n",
    "        if n%100==0:\n",
    "            return ones[n//100]+\"hundred\"\n",
    "        else:\n",
    "            return ones[n//100]+\"hundredand\"+numbers_words(n%100)\n",
    "    elif n==1000:\n",
    "        return \"onethousand\"\n",
    "def counting_letters(start,end):\n",
    "    total_letters=0\n",
    "    for i in range(start,end+1):\n",
    "        words=number_to_words(i)\n",
    "        total_letters+=len(words.replace(\" \",\"\").replace(\"-\",\"\"))\n",
    "    return total_letters\n",
    "\n",
    "print(counting_letters(1,1000))"
   ]
  },
  {
   "cell_type": "code",
   "execution_count": 10,
   "id": "572a2213",
   "metadata": {},
   "outputs": [
    {
     "name": "stdout",
     "output_type": "stream",
     "text": [
      "12\n",
      "4\n",
      "55\n"
     ]
    }
   ],
   "source": [
    "def maximumscore(cardPoints,k):\n",
    "    n=len(cardPoints)\n",
    "    total=sum(cardPoints[:k])\n",
    "    max_score=total\n",
    "    \n",
    "    for i in range(1,k+1):\n",
    "        total+=cardPoints[-i]-cardPoints[k-i]\n",
    "        max_score=max(max_score,total)\n",
    "    return max_score\n",
    "\n",
    "print(maximumscore([1,2,3,4,5,6,1],3))\n",
    "print(maximumscore([2,2,2],2))\n",
    "print(maximumscore([9,7,7,9,7,7,9],7))"
   ]
  },
  {
   "cell_type": "code",
   "execution_count": null,
   "id": "1e18ec15",
   "metadata": {},
   "outputs": [],
   "source": []
  }
 ],
 "metadata": {
  "kernelspec": {
   "display_name": "Python 3 (ipykernel)",
   "language": "python",
   "name": "python3"
  },
  "language_info": {
   "codemirror_mode": {
    "name": "ipython",
    "version": 3
   },
   "file_extension": ".py",
   "mimetype": "text/x-python",
   "name": "python",
   "nbconvert_exporter": "python",
   "pygments_lexer": "ipython3",
   "version": "3.9.13"
  }
 },
 "nbformat": 4,
 "nbformat_minor": 5
}
